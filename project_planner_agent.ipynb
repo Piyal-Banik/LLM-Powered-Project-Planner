{
  "nbformat": 4,
  "nbformat_minor": 0,
  "metadata": {
    "colab": {
      "provenance": [],
      "gpuType": "T4"
    },
    "kernelspec": {
      "name": "python3",
      "display_name": "Python 3"
    },
    "language_info": {
      "name": "python"
    },
    "accelerator": "GPU"
  },
  "cells": [
    {
      "cell_type": "markdown",
      "source": [
        "## Set Up OpenAI gpt-4o-mini LLM"
      ],
      "metadata": {
        "id": "xoixC6ArxR7c"
      }
    },
    {
      "cell_type": "code",
      "source": [
        "import os\n",
        "import getpass\n",
        "\n",
        "if \"OPENAI_API_KEY\" not in os.environ:\n",
        "    os.environ[\"OPENAI_API_KEY\"] = getpass.getpass(\"Enter your OPENAI_API_KEY: \")"
      ],
      "metadata": {
        "colab": {
          "base_uri": "https://localhost:8080/"
        },
        "id": "vP6I8-ooxELF",
        "outputId": "8f5911cd-4147-41f9-e2b4-45554f535733"
      },
      "execution_count": 2,
      "outputs": [
        {
          "name": "stdout",
          "output_type": "stream",
          "text": [
            "Enter your OPENAI_API_KEY: ··········\n"
          ]
        }
      ]
    },
    {
      "cell_type": "code",
      "source": [
        "import os\n",
        "\n",
        "os.environ[\"OPENAI_API_BASE\"] = \"https://api.openai.com/v1\"\n",
        "os.environ[\"OPENAI_MODEL_NAME\"] = \"gpt-4o-mini\""
      ],
      "metadata": {
        "id": "6BU52Z8Nvgpm"
      },
      "execution_count": 3,
      "outputs": []
    },
    {
      "cell_type": "code",
      "source": [
        "from crewai import LLM\n",
        "\n",
        "llm = LLM(\n",
        "    model=\"openai/gpt-4o-mini\",\n",
        "    temperature=0\n",
        ")"
      ],
      "metadata": {
        "id": "dOKYGdXzvzXk"
      },
      "execution_count": 4,
      "outputs": []
    },
    {
      "cell_type": "code",
      "source": [
        "llm.call(\"Hi, How are you today?\")"
      ],
      "metadata": {
        "colab": {
          "base_uri": "https://localhost:8080/",
          "height": 36
        },
        "id": "4cY0C6QTv3qM",
        "outputId": "33f9f6bb-3a7e-4029-f3ab-20f55a3f17a2"
      },
      "execution_count": 5,
      "outputs": [
        {
          "output_type": "execute_result",
          "data": {
            "text/plain": [
              "\"Hello! I'm just a program, so I don't have feelings, but I'm here and ready to help you. How can I assist you today?\""
            ],
            "application/vnd.google.colaboratory.intrinsic+json": {
              "type": "string"
            }
          },
          "metadata": {},
          "execution_count": 5
        }
      ]
    },
    {
      "cell_type": "markdown",
      "source": [
        "## Loading Tasks and Agents YAML files"
      ],
      "metadata": {
        "id": "bTr6DCCT24RP"
      }
    },
    {
      "cell_type": "code",
      "source": [
        "import yaml\n",
        "\n",
        "files = {\n",
        "    'agents': '/content/agents.yaml',\n",
        "    'tasks': '/content/tasks.yaml'\n",
        "}\n",
        "\n",
        "configs = {}\n",
        "for config_type, file_path in files.items():\n",
        "    with open(file_path, 'r') as file:\n",
        "        configs[config_type] = yaml.safe_load(file)\n",
        "\n",
        "agents_config = configs['agents']\n",
        "tasks_config = configs['tasks']"
      ],
      "metadata": {
        "id": "3cAgg0lD234l"
      },
      "execution_count": 6,
      "outputs": []
    },
    {
      "cell_type": "markdown",
      "source": [
        "## Create Pydantic Models for Structured Output"
      ],
      "metadata": {
        "id": "Jvd5HOqL6lH6"
      }
    },
    {
      "cell_type": "code",
      "source": [
        "from typing import List\n",
        "from pydantic import BaseModel, Field\n",
        "\n",
        "class TaskEstimate(BaseModel):\n",
        "    task_name: str = Field(..., description=\"Name of the task\")\n",
        "    estimated_time_hours: float = Field(..., description=\"Estimated time to complete the task in hours\")\n",
        "    required_resources: List[str] = Field(..., description=\"List of resources required to complete the task\")\n",
        "\n",
        "class Milestone(BaseModel):\n",
        "    milestone_name: str = Field(..., description=\"Name of the milestone\")\n",
        "    tasks: List[str] = Field(..., description=\"List of task IDs associated with this milestone\")\n",
        "\n",
        "class ProjectPlan(BaseModel):\n",
        "    tasks: List[TaskEstimate] = Field(..., description=\"List of tasks with their estimates\")\n",
        "    milestones: List[Milestone] = Field(..., description=\"List of project milestones\")"
      ],
      "metadata": {
        "id": "KbnEcTC46gB7"
      },
      "execution_count": 7,
      "outputs": []
    },
    {
      "cell_type": "markdown",
      "source": [
        "## Setting up Agents from CrewAI"
      ],
      "metadata": {
        "id": "uI7A5GdV6qoC"
      }
    },
    {
      "cell_type": "code",
      "source": [
        "from crewai import Agent\n",
        "\n",
        "project_planning_agent = Agent(\n",
        "  config=agents_config['project_planning_agent'],\n",
        "  llm=llm\n",
        ")\n",
        "\n",
        "estimation_agent = Agent(\n",
        "  config=agents_config['estimation_agent'],\n",
        "  llm=llm\n",
        ")\n",
        "\n",
        "resource_allocation_agent = Agent(\n",
        "  config=agents_config['resource_allocation_agent'],\n",
        "  llm=llm\n",
        ")"
      ],
      "metadata": {
        "id": "zHy3IfDn6n4j"
      },
      "execution_count": 12,
      "outputs": []
    },
    {
      "cell_type": "markdown",
      "source": [
        "## Setting up Tasks using CrewAI"
      ],
      "metadata": {
        "id": "1li4SXPK62FC"
      }
    },
    {
      "cell_type": "code",
      "source": [
        "from crewai import Task\n",
        "\n",
        "task_breakdown = Task(\n",
        "  config=tasks_config['task_breakdown'],\n",
        "  agent=project_planning_agent\n",
        ")\n",
        "\n",
        "time_resource_estimation = Task(\n",
        "  config=tasks_config['time_resource_estimation'],\n",
        "  agent=estimation_agent\n",
        ")\n",
        "\n",
        "resource_allocation = Task(\n",
        "  config=tasks_config['resource_allocation'],\n",
        "  agent=resource_allocation_agent,\n",
        "  output_pydantic=ProjectPlan\n",
        ")"
      ],
      "metadata": {
        "id": "TraDrkCn6vPZ"
      },
      "execution_count": 10,
      "outputs": []
    },
    {
      "cell_type": "markdown",
      "source": [
        "## Setting up Crew"
      ],
      "metadata": {
        "id": "NO1y0od16_6y"
      }
    },
    {
      "cell_type": "code",
      "source": [
        "from crewai import Crew"
      ],
      "metadata": {
        "id": "U2p11W2167Cy"
      },
      "execution_count": 11,
      "outputs": []
    },
    {
      "cell_type": "code",
      "source": [
        "crew = Crew(\n",
        "  agents=[\n",
        "    project_planning_agent,\n",
        "    estimation_agent,\n",
        "    resource_allocation_agent\n",
        "  ],\n",
        "  tasks=[\n",
        "    task_breakdown,\n",
        "    time_resource_estimation,\n",
        "    resource_allocation\n",
        "  ],\n",
        "  verbose=True\n",
        ")"
      ],
      "metadata": {
        "id": "GWwIS2ef7B2i"
      },
      "execution_count": 13,
      "outputs": []
    },
    {
      "cell_type": "code",
      "source": [
        "project = 'Website'\n",
        "industry = 'Technology'\n",
        "project_objectives = 'Create a website for a small business'\n",
        "team_members = \"\"\"\n",
        "- John Doe (Project Manager)\n",
        "- Jane Doe (Software Engineer)\n",
        "- Bob Smith (Designer)\n",
        "- Alice Johnson (QA Engineer)\n",
        "- Tom Brown (QA Engineer)\n",
        "\"\"\"\n",
        "project_requirements = \"\"\"\n",
        "- Create a responsive design that works well on desktop and mobile devices\n",
        "- Implement a modern, visually appealing user interface with a clean look\n",
        "- Develop a user-friendly navigation system with intuitive menu structure\n",
        "- Include an \"About Us\" page highlighting the company's history and values\n",
        "- Design a \"Services\" page showcasing the business's offerings with descriptions\n",
        "- Create a \"Contact Us\" page with a form and integrated map for communication\n",
        "- Implement a blog section for sharing industry news and company updates\n",
        "- Ensure fast loading times and optimize for search engines (SEO)\n",
        "- Integrate social media links and sharing capabilities\n",
        "- Include a testimonials section to showcase customer feedback and build trust\n",
        "\"\"\""
      ],
      "metadata": {
        "id": "OAxmQQgW7VlD"
      },
      "execution_count": 14,
      "outputs": []
    },
    {
      "cell_type": "code",
      "source": [
        "inputs = {\n",
        "  'project_type': project,\n",
        "  'project_objectives': project_objectives,\n",
        "  'industry': industry,\n",
        "  'team_members': team_members,\n",
        "  'project_requirements': project_requirements\n",
        "}"
      ],
      "metadata": {
        "id": "iFOp8fuu7at6"
      },
      "execution_count": 15,
      "outputs": []
    },
    {
      "cell_type": "code",
      "source": [
        "result = crew.kickoff(\n",
        "  inputs=inputs\n",
        ")"
      ],
      "metadata": {
        "colab": {
          "base_uri": "https://localhost:8080/"
        },
        "id": "3gtPipVk7eSB",
        "outputId": "551341cf-63cc-44d9-a9f8-a1611d98ee1c"
      },
      "execution_count": 16,
      "outputs": [
        {
          "output_type": "stream",
          "name": "stdout",
          "text": [
            "\u001b[1m\u001b[95m# Agent:\u001b[00m \u001b[1m\u001b[92mThe Ultimate Project Planner\u001b[00m\n",
            "\u001b[95m## Task:\u001b[00m \u001b[92mCarefully analyze the project_requirements for the Website project and break them down into individual tasks. Define each task's scope in detail, set achievable timelines, and ensure that all dependencies are accounted for:\n",
            "\n",
            "- Create a responsive design that works well on desktop and mobile devices\n",
            "- Implement a modern, visually appealing user interface with a clean look\n",
            "- Develop a user-friendly navigation system with intuitive menu structure\n",
            "- Include an \"About Us\" page highlighting the company's history and values\n",
            "- Design a \"Services\" page showcasing the business's offerings with descriptions\n",
            "- Create a \"Contact Us\" page with a form and integrated map for communication\n",
            "- Implement a blog section for sharing industry news and company updates\n",
            "- Ensure fast loading times and optimize for search engines (SEO)\n",
            "- Integrate social media links and sharing capabilities\n",
            "- Include a testimonials section to showcase customer feedback and build trust\n",
            "\n",
            "\n",
            "Team members:\n",
            "\n",
            "- John Doe (Project Manager)\n",
            "- Jane Doe (Software Engineer)\n",
            "- Bob Smith (Designer)\n",
            "- Alice Johnson (QA Engineer)\n",
            "- Tom Brown (QA Engineer)\n",
            "\n",
            "\u001b[00m\n",
            "\n",
            "\n",
            "\u001b[1m\u001b[95m# Agent:\u001b[00m \u001b[1m\u001b[92mThe Ultimate Project Planner\u001b[00m\n",
            "\u001b[95m## Final Answer:\u001b[00m \u001b[92m\n",
            "### Comprehensive Task Breakdown for Website Project\n",
            "\n",
            "**Project Overview**  \n",
            "Project Type: Website Development  \n",
            "Project Objectives: Create an engaging, responsive, and SEO-optimized website that effectively communicates the business's value and fosters user engagement.\n",
            "\n",
            "### Task Breakdown\n",
            "\n",
            "| Task ID | Task Description                                                                                      | Assigned To       | Duration (Days) | Start Date | End Date   | Dependencies                       | Deliverables                           |\n",
            "|---------|------------------------------------------------------------------------------------------------------|--------------------|-----------------|------------|------------|-------------------------------------|----------------------------------------|\n",
            "| 1       | Create a responsive design that works well on desktop and mobile devices                            | Bob Smith           | 7               | 01/01/2024 | 07/01/2024 | -                                   | Wireframes and prototypes               |\n",
            "| 2       | Implement a modern, visually appealing user interface with a clean look                              | Bob Smith           | 10              | 08/01/2024 | 17/01/2024 | 1                                   | UI Elements and Style Guide            |\n",
            "| 3       | Develop a user-friendly navigation system with intuitive menu structure                              | Jane Doe            | 5               | 18/01/2024 | 22/01/2024 | 2                                   | Navigation Menu Implementation         |\n",
            "| 4       | Include an \"About Us\" page highlighting the company's history and values                             | Jane Doe            | 3               | 23/01/2024 | 25/01/2024 | 2                                   | About Us Page                          |\n",
            "| 5       | Design a \"Services\" page showcasing the business's offerings with descriptions                      | Bob Smith           | 4               | 26/01/2024 | 29/01/2024 | 2                                   | Services Page                          |\n",
            "| 6       | Create a \"Contact Us\" page with a form and integrated map for communication                        | Jane Doe            | 3               | 30/01/2024 | 01/02/2024 | 2                                   | Contact Us Page                        |\n",
            "| 7       | Implement a blog section for sharing industry news and company updates                               | Jane Doe            | 5               | 02/02/2024 | 06/02/2024 | 3                                   | Blog Section Implementation            |\n",
            "| 8       | Ensure fast loading times and optimize for search engines (SEO)                                     | Jane Doe            | 4               | 07/02/2024 | 10/02/2024 | 1, 3, 5, 6, 7                       | SEO Optimization Report                |\n",
            "| 9       | Integrate social media links and sharing capabilities                                                 | Jane Doe            | 2               | 11/02/2024 | 12/02/2024 | 2                                   | Social Media Integration               |\n",
            "| 10      | Include a testimonials section to showcase customer feedback and build trust                        | Bob Smith           | 3               | 13/02/2024 | 15/02/2024 | 2                                   | Testimonials Section                   |\n",
            "| 11      | Conduct full QA testing and gather feedback on site functionality                                    | Alice Johnson, Tom Brown | 5             | 16/02/2024 | 20/02/2024 | 4, 5, 6, 7, 8, 9, 10                | QA Report with Issues                  |\n",
            "| 12      | Revise and finalize the website based on QA feedback                                                | Jane Doe            | 5               | 21/02/2024 | 25/02/2024 | 11                                  | Final Website Release                  |\n",
            "\n",
            "### Timeline Visualization (Gantt Chart)\n",
            "\n",
            "(Note: Please visualize using available tools or software to create Gantt chart from this data)\n",
            "\n",
            "```\n",
            "Gantt Chart Representation:\n",
            "\n",
            "| Task                    | Jan | Feb |\n",
            "|------------------------|-----|-----|\n",
            "| Create responsive design| XXXXXX               |\n",
            "| Implement UI           |          XXXXXXXXXXXX|\n",
            "| Develop Navigation      |                   XXXX|\n",
            "| About Us Page          |                        XXX|\n",
            "| Services Page          |                            XXXX|\n",
            "| Contact Us Page        |                                XXX|\n",
            "| Blog Implementation     |                                    XXXXX|\n",
            "| SEO Optimization       |                                           XXXX|\n",
            "| Social Media Integration|                                                XX|\n",
            "| Testimonials Section    |                                                    XXX|\n",
            "| QA Testing              |                                                       XXXXX|\n",
            "| Finalization            |                                                         XXXXX|\n",
            "```\n",
            "\n",
            "### Key Milestones\n",
            "- **End of Week 1**: Completion of the responsive design\n",
            "- **End of Week 2**: User Interface implementation finished\n",
            "- **End of Week 3**: All page designs completed\n",
            "- **End of February**: Website QA and final revisions completed\n",
            "\n",
            "By meticulously defining the scope, timelines, and dependencies of each task, this project plan sets a clear pathway to achieve the website development objectives effectively, ensuring alignment across all team members and project expectations.\u001b[00m\n",
            "\n",
            "\n",
            "\u001b[1m\u001b[95m# Agent:\u001b[00m \u001b[1m\u001b[92mExpert Estimation Analyst\u001b[00m\n",
            "\u001b[95m## Task:\u001b[00m \u001b[92mThoroughly evaluate each task in the Website project to estimate the time, resources, and effort required. Use historical data, task complexity, and available resources to provide a realistic estimation for each task.\n",
            "\u001b[00m\n",
            "\n",
            "\n",
            "\u001b[1m\u001b[95m# Agent:\u001b[00m \u001b[1m\u001b[92mExpert Estimation Analyst\u001b[00m\n",
            "\u001b[95m## Final Answer:\u001b[00m \u001b[92m\n",
            "### Detailed Estimation Report for Website Development Project\n",
            "\n",
            "**Project Overview**  \n",
            "Project Type: Website Development  \n",
            "Project Objectives: Create an engaging, responsive, and SEO-optimized website that effectively communicates the business's value and fosters user engagement.\n",
            "\n",
            "### Task Estimation Breakdown\n",
            "\n",
            "| Task ID | Task Description                                                                                      | Assigned To       | Duration (Days) | Effort (Hours) | Resources Needed             | Risks/Uncertainties                                             | Deliverables                           |\n",
            "|---------|------------------------------------------------------------------------------------------------------|--------------------|-----------------|----------------|------------------------------|----------------------------------------------------------------|----------------------------------------|\n",
            "| 1       | Create a responsive design that works well on desktop and mobile devices                            | Bob Smith           | 7               | 56             | Design Software, Prototyping Tools | User feedback may require additional revisions                | Wireframes and prototypes               |\n",
            "| 2       | Implement a modern, visually appealing user interface with a clean look                              | Bob Smith           | 10              | 80             | UI Framework, Graphics Software | Design discrepancies might delay implementation                 | UI Elements and Style Guide            |\n",
            "| 3       | Develop a user-friendly navigation system with intuitive menu structure                              | Jane Doe            | 5               | 40             | Design Tools                  | Complexity in user flow could extend development time          | Navigation Menu Implementation         |\n",
            "| 4       | Include an \"About Us\" page highlighting the company's history and values                             | Jane Doe            | 3               | 24             | Content Management Tools      | Gathering accurate content may take longer than anticipated    | About Us Page                          |\n",
            "| 5       | Design a \"Services\" page showcasing the business's offerings with descriptions                      | Bob Smith           | 4               | 32             | Content Management Tools      | Possible changes in service descriptions might affect timelines | Services Page                          |\n",
            "| 6       | Create a \"Contact Us\" page with a form and integrated map for communication                        | Jane Doe            | 3               | 24             | Backend Development Tools     | Integration with mapping service may face technical issues     | Contact Us Page                        |\n",
            "| 7       | Implement a blog section for sharing industry news and company updates                               | Jane Doe            | 5               | 40             | CMS, Development Tools        | Availability of updating mechanisms may be a risk              | Blog Section Implementation            |\n",
            "| 8       | Ensure fast loading times and optimize for search engines (SEO)                                     | Jane Doe            | 4               | 32             | SEO Tools, Performance Tools  | SEO best practices may shift as algorithms update              | SEO Optimization Report                |\n",
            "| 9       | Integrate social media links and sharing capabilities                                                 | Jane Doe            | 2               | 16             | API Access, Social Media Tools| Platform changes may affect integration processes               | Social Media Integration               |\n",
            "| 10      | Include a testimonials section to showcase customer feedback and build trust                        | Bob Smith           | 3               | 24             | Content Management Tools      | Collecting testimonials may delay the process                  | Testimonials Section                   |\n",
            "| 11      | Conduct full QA testing and gather feedback on site functionality                                    | Alice Johnson, Tom Brown | 5           | 40             | Testing Software              | Uncovered bugs may extend testing phase                         | QA Report with Issues                  |\n",
            "| 12      | Revise and finalize the website based on QA feedback                                                | Jane Doe            | 5               | 40             | Revision Tools                | Additional revisions may be necessary based on feedback        | Final Website Release                  |\n",
            "\n",
            "### Summary of Risks and Uncertainties\n",
            "- **Design Changes**: Potential revisions based on user feedback may cause timeline shifts.\n",
            "- **Content Delays**: Availability and accuracy of content may delay task completion.\n",
            "- **Technical Integrations**: Unforeseen complications with software integration could impact the duration estimations.\n",
            "- **SEO Changes**: SEO process may require more iterations if search engine algorithms change.\n",
            "\n",
            "### Conclusion\n",
            "This estimation report, based on historical data and task complexity, outlines the necessary time, resources, and effort needed to successfully complete each task associated with the website development project. By paying attention to the identified risks and dependencies, the team can proactively manage challenges, ensuring the project stays on track and within budget for successful delivery. \n",
            "\n",
            "Overall, the strategy incorporates a structured approach to meet project objectives efficiently while recognizing potential impacts on timelines and resources.\n",
            "\n",
            "---\u001b[00m\n",
            "\n",
            "\n",
            "\u001b[1m\u001b[95m# Agent:\u001b[00m \u001b[1m\u001b[92mResource Allocation Strategist\u001b[00m\n",
            "\u001b[95m## Task:\u001b[00m \u001b[92mStrategically allocate tasks for the Website project to team members based on their skills, availability, and current workload. Ensure that each task is assigned to the most suitable team member and that the workload is evenly distributed.\n",
            "\n",
            "Team members:\n",
            "\n",
            "- John Doe (Project Manager)\n",
            "- Jane Doe (Software Engineer)\n",
            "- Bob Smith (Designer)\n",
            "- Alice Johnson (QA Engineer)\n",
            "- Tom Brown (QA Engineer)\n",
            "\n",
            "\u001b[00m\n",
            "\n",
            "\n",
            "\u001b[1m\u001b[95m# Agent:\u001b[00m \u001b[1m\u001b[92mResource Allocation Strategist\u001b[00m\n",
            "\u001b[95m## Final Answer:\u001b[00m \u001b[92m\n",
            "{\n",
            "  \"tasks\": [\n",
            "    {\n",
            "      \"task_name\": \"Create a responsive design\",\n",
            "      \"estimated_time_hours\": 56,\n",
            "      \"required_resources\": [\"Bob Smith\"]\n",
            "    },\n",
            "    {\n",
            "      \"task_name\": \"Implement a modern user interface\",\n",
            "      \"estimated_time_hours\": 80,\n",
            "      \"required_resources\": [\"Bob Smith\"]\n",
            "    },\n",
            "    {\n",
            "      \"task_name\": \"Develop a user-friendly navigation system\",\n",
            "      \"estimated_time_hours\": 40,\n",
            "      \"required_resources\": [\"Jane Doe\"]\n",
            "    },\n",
            "    {\n",
            "      \"task_name\": \"Include an 'About Us' page\",\n",
            "      \"estimated_time_hours\": 24,\n",
            "      \"required_resources\": [\"Jane Doe\"]\n",
            "    },\n",
            "    {\n",
            "      \"task_name\": \"Design a 'Services' page\",\n",
            "      \"estimated_time_hours\": 32,\n",
            "      \"required_resources\": [\"Bob Smith\"]\n",
            "    },\n",
            "    {\n",
            "      \"task_name\": \"Create a 'Contact Us' page\",\n",
            "      \"estimated_time_hours\": 24,\n",
            "      \"required_resources\": [\"Jane Doe\"]\n",
            "    },\n",
            "    {\n",
            "      \"task_name\": \"Implement a blog section\",\n",
            "      \"estimated_time_hours\": 40,\n",
            "      \"required_resources\": [\"Jane Doe\"]\n",
            "    },\n",
            "    {\n",
            "      \"task_name\": \"Ensure fast loading times and optimize for SEO\",\n",
            "      \"estimated_time_hours\": 32,\n",
            "      \"required_resources\": [\"Jane Doe\"]\n",
            "    },\n",
            "    {\n",
            "      \"task_name\": \"Integrate social media links\",\n",
            "      \"estimated_time_hours\": 16,\n",
            "      \"required_resources\": [\"Jane Doe\"]\n",
            "    },\n",
            "    {\n",
            "      \"task_name\": \"Include a testimonials section\",\n",
            "      \"estimated_time_hours\": 24,\n",
            "      \"required_resources\": [\"Bob Smith\"]\n",
            "    },\n",
            "    {\n",
            "      \"task_name\": \"Conduct full QA testing\",\n",
            "      \"estimated_time_hours\": 40,\n",
            "      \"required_resources\": [\"Alice Johnson\", \"Tom Brown\"]\n",
            "    },\n",
            "    {\n",
            "      \"task_name\": \"Revise and finalize the website\",\n",
            "      \"estimated_time_hours\": 40,\n",
            "      \"required_resources\": [\"Jane Doe\"]\n",
            "    }\n",
            "  ],\n",
            "  \"milestones\": [\n",
            "    {\n",
            "      \"milestone_name\": \"Completion of responsive design\",\n",
            "      \"tasks\": [\n",
            "        \"Create a responsive design\"\n",
            "      ]\n",
            "    },\n",
            "    {\n",
            "      \"milestone_name\": \"User Interface implementation finished\",\n",
            "      \"tasks\": [\n",
            "        \"Implement a modern user interface\"\n",
            "      ]\n",
            "    },\n",
            "    {\n",
            "      \"milestone_name\": \"All page designs completed\",\n",
            "      \"tasks\": [\n",
            "        \"Develop a user-friendly navigation system\",\n",
            "        \"Include an 'About Us' page\",\n",
            "        \"Design a 'Services' page\",\n",
            "        \"Create a 'Contact Us' page\",\n",
            "        \"Implement a blog section\",\n",
            "        \"Integrate social media links\",\n",
            "        \"Include a testimonials section\"\n",
            "      ]\n",
            "    },\n",
            "    {\n",
            "      \"milestone_name\": \"QA and final revisions completed\",\n",
            "      \"tasks\": [\n",
            "        \"Conduct full QA testing\",\n",
            "        \"Revise and finalize the website\"\n",
            "      ]\n",
            "    }\n",
            "  ]\n",
            "}\n",
            "\n",
            "### Summary of Rationale Behind Allocations\n",
            "\n",
            "1. **Bob Smith (Designer)** is assigned the tasks related to visual components, such as creating a responsive design, user interface implementation, designing the \"Services\" page, and including a testimonials section. His skill set is aligned with design tasks, ensuring high-quality deliverables.\n",
            "\n",
            "2. **Jane Doe (Software Engineer)** is tasked with developing the navigation system, the \"About Us\" page, the \"Contact Us\" page, implementing the blog section, and optimizing SEO. Jane's engineering skills fit well for both front-end and back-end development aspects of the website.\n",
            "\n",
            "3. **Alice Johnson and Tom Brown (QA Engineers)** share the responsibility for QA testing. Their collective effort ensures comprehensive quality assurance, crucial for identifying and fixing bugs across all components.\n",
            "\n",
            "4. The task durations reflect individual capacities, workload balancing, and project deadlines to prevent overburdening. Ensuring a mix of design and technical responsibilities allows for a holistic approach to website development, facilitating the timely completion of tasks while maximizing team engagement and efficiency.\u001b[00m\n",
            "\n",
            "\n"
          ]
        }
      ]
    },
    {
      "cell_type": "code",
      "source": [
        "import pandas as pd\n",
        "\n",
        "tasks = result.pydantic.dict()['tasks']\n",
        "df_tasks = pd.DataFrame(tasks)\n",
        "\n",
        "# Display the DataFrame as an HTML table\n",
        "df_tasks.style.set_table_attributes('border=\"1\"').set_caption(\"Task Details\").set_table_styles(\n",
        "    [{'selector': 'th, td', 'props': [('font-size', '120%')]}]\n",
        ")"
      ],
      "metadata": {
        "colab": {
          "base_uri": "https://localhost:8080/",
          "height": 524
        },
        "id": "0BsF6HN57ez5",
        "outputId": "5393b73c-aefb-4fa1-8a8d-768dda1f4e43"
      },
      "execution_count": 18,
      "outputs": [
        {
          "output_type": "execute_result",
          "data": {
            "text/plain": [
              "<pandas.io.formats.style.Styler at 0x7ce097da2bd0>"
            ],
            "text/html": [
              "<style type=\"text/css\">\n",
              "#T_7a9c3 th {\n",
              "  font-size: 120%;\n",
              "}\n",
              "#T_7a9c3  td {\n",
              "  font-size: 120%;\n",
              "}\n",
              "</style>\n",
              "<table id=\"T_7a9c3\" class=\"dataframe\">\n",
              "  <caption>Task Details</caption>\n",
              "  <thead>\n",
              "    <tr>\n",
              "      <th class=\"blank level0\" >&nbsp;</th>\n",
              "      <th id=\"T_7a9c3_level0_col0\" class=\"col_heading level0 col0\" >task_name</th>\n",
              "      <th id=\"T_7a9c3_level0_col1\" class=\"col_heading level0 col1\" >estimated_time_hours</th>\n",
              "      <th id=\"T_7a9c3_level0_col2\" class=\"col_heading level0 col2\" >required_resources</th>\n",
              "    </tr>\n",
              "  </thead>\n",
              "  <tbody>\n",
              "    <tr>\n",
              "      <th id=\"T_7a9c3_level0_row0\" class=\"row_heading level0 row0\" >0</th>\n",
              "      <td id=\"T_7a9c3_row0_col0\" class=\"data row0 col0\" >Create a responsive design</td>\n",
              "      <td id=\"T_7a9c3_row0_col1\" class=\"data row0 col1\" >56.000000</td>\n",
              "      <td id=\"T_7a9c3_row0_col2\" class=\"data row0 col2\" >['Bob Smith']</td>\n",
              "    </tr>\n",
              "    <tr>\n",
              "      <th id=\"T_7a9c3_level0_row1\" class=\"row_heading level0 row1\" >1</th>\n",
              "      <td id=\"T_7a9c3_row1_col0\" class=\"data row1 col0\" >Implement a modern user interface</td>\n",
              "      <td id=\"T_7a9c3_row1_col1\" class=\"data row1 col1\" >80.000000</td>\n",
              "      <td id=\"T_7a9c3_row1_col2\" class=\"data row1 col2\" >['Bob Smith']</td>\n",
              "    </tr>\n",
              "    <tr>\n",
              "      <th id=\"T_7a9c3_level0_row2\" class=\"row_heading level0 row2\" >2</th>\n",
              "      <td id=\"T_7a9c3_row2_col0\" class=\"data row2 col0\" >Develop a user-friendly navigation system</td>\n",
              "      <td id=\"T_7a9c3_row2_col1\" class=\"data row2 col1\" >40.000000</td>\n",
              "      <td id=\"T_7a9c3_row2_col2\" class=\"data row2 col2\" >['Jane Doe']</td>\n",
              "    </tr>\n",
              "    <tr>\n",
              "      <th id=\"T_7a9c3_level0_row3\" class=\"row_heading level0 row3\" >3</th>\n",
              "      <td id=\"T_7a9c3_row3_col0\" class=\"data row3 col0\" >Include an 'About Us' page</td>\n",
              "      <td id=\"T_7a9c3_row3_col1\" class=\"data row3 col1\" >24.000000</td>\n",
              "      <td id=\"T_7a9c3_row3_col2\" class=\"data row3 col2\" >['Jane Doe']</td>\n",
              "    </tr>\n",
              "    <tr>\n",
              "      <th id=\"T_7a9c3_level0_row4\" class=\"row_heading level0 row4\" >4</th>\n",
              "      <td id=\"T_7a9c3_row4_col0\" class=\"data row4 col0\" >Design a 'Services' page</td>\n",
              "      <td id=\"T_7a9c3_row4_col1\" class=\"data row4 col1\" >32.000000</td>\n",
              "      <td id=\"T_7a9c3_row4_col2\" class=\"data row4 col2\" >['Bob Smith']</td>\n",
              "    </tr>\n",
              "    <tr>\n",
              "      <th id=\"T_7a9c3_level0_row5\" class=\"row_heading level0 row5\" >5</th>\n",
              "      <td id=\"T_7a9c3_row5_col0\" class=\"data row5 col0\" >Create a 'Contact Us' page</td>\n",
              "      <td id=\"T_7a9c3_row5_col1\" class=\"data row5 col1\" >24.000000</td>\n",
              "      <td id=\"T_7a9c3_row5_col2\" class=\"data row5 col2\" >['Jane Doe']</td>\n",
              "    </tr>\n",
              "    <tr>\n",
              "      <th id=\"T_7a9c3_level0_row6\" class=\"row_heading level0 row6\" >6</th>\n",
              "      <td id=\"T_7a9c3_row6_col0\" class=\"data row6 col0\" >Implement a blog section</td>\n",
              "      <td id=\"T_7a9c3_row6_col1\" class=\"data row6 col1\" >40.000000</td>\n",
              "      <td id=\"T_7a9c3_row6_col2\" class=\"data row6 col2\" >['Jane Doe']</td>\n",
              "    </tr>\n",
              "    <tr>\n",
              "      <th id=\"T_7a9c3_level0_row7\" class=\"row_heading level0 row7\" >7</th>\n",
              "      <td id=\"T_7a9c3_row7_col0\" class=\"data row7 col0\" >Ensure fast loading times and optimize for SEO</td>\n",
              "      <td id=\"T_7a9c3_row7_col1\" class=\"data row7 col1\" >32.000000</td>\n",
              "      <td id=\"T_7a9c3_row7_col2\" class=\"data row7 col2\" >['Jane Doe']</td>\n",
              "    </tr>\n",
              "    <tr>\n",
              "      <th id=\"T_7a9c3_level0_row8\" class=\"row_heading level0 row8\" >8</th>\n",
              "      <td id=\"T_7a9c3_row8_col0\" class=\"data row8 col0\" >Integrate social media links</td>\n",
              "      <td id=\"T_7a9c3_row8_col1\" class=\"data row8 col1\" >16.000000</td>\n",
              "      <td id=\"T_7a9c3_row8_col2\" class=\"data row8 col2\" >['Jane Doe']</td>\n",
              "    </tr>\n",
              "    <tr>\n",
              "      <th id=\"T_7a9c3_level0_row9\" class=\"row_heading level0 row9\" >9</th>\n",
              "      <td id=\"T_7a9c3_row9_col0\" class=\"data row9 col0\" >Include a testimonials section</td>\n",
              "      <td id=\"T_7a9c3_row9_col1\" class=\"data row9 col1\" >24.000000</td>\n",
              "      <td id=\"T_7a9c3_row9_col2\" class=\"data row9 col2\" >['Bob Smith']</td>\n",
              "    </tr>\n",
              "    <tr>\n",
              "      <th id=\"T_7a9c3_level0_row10\" class=\"row_heading level0 row10\" >10</th>\n",
              "      <td id=\"T_7a9c3_row10_col0\" class=\"data row10 col0\" >Conduct full QA testing</td>\n",
              "      <td id=\"T_7a9c3_row10_col1\" class=\"data row10 col1\" >40.000000</td>\n",
              "      <td id=\"T_7a9c3_row10_col2\" class=\"data row10 col2\" >['Alice Johnson', 'Tom Brown']</td>\n",
              "    </tr>\n",
              "    <tr>\n",
              "      <th id=\"T_7a9c3_level0_row11\" class=\"row_heading level0 row11\" >11</th>\n",
              "      <td id=\"T_7a9c3_row11_col0\" class=\"data row11 col0\" >Revise and finalize the website</td>\n",
              "      <td id=\"T_7a9c3_row11_col1\" class=\"data row11 col1\" >40.000000</td>\n",
              "      <td id=\"T_7a9c3_row11_col2\" class=\"data row11 col2\" >['Jane Doe']</td>\n",
              "    </tr>\n",
              "  </tbody>\n",
              "</table>\n"
            ]
          },
          "metadata": {},
          "execution_count": 18
        }
      ]
    },
    {
      "cell_type": "code",
      "source": [],
      "metadata": {
        "id": "oj_Ze1_t7w8r"
      },
      "execution_count": null,
      "outputs": []
    }
  ]
}